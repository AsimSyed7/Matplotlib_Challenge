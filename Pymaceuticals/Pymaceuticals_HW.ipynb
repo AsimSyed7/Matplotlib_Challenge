{
 "cells": [
  {
   "cell_type": "code",
   "execution_count": null,
   "metadata": {},
   "outputs": [],
   "source": [
    "import matplotlib.pyplot as plt\n",
    "import pandas as pd\n",
    "import scipy.stats as st\n",
    "import numpy as np\n",
    "\n",
    "mouse_metadata_path = \"data/Mouse_metadata.csv\"\n",
    "study_results_path = \"data/Study_results.csv\"\n",
    "\n",
    "mouse_metadata = pd.read_csv(mouse_metadata_path)\n",
    "study_results = pd.read_csv(study_results_path)"
   ]
  },
  {
   "cell_type": "code",
   "execution_count": null,
   "metadata": {},
   "outputs": [],
   "source": [
    "combined_df = pd.merge(mouse_metadata, study_results, how=\"inner\", on=\"Mouse ID\")\n",
    "combined_df"
   ]
  },
  {
   "cell_type": "code",
   "execution_count": null,
   "metadata": {},
   "outputs": [],
   "source": [
    "    Mouse ID,Drug Regimen,Sex,Age_months,Weight (g),Timepoint,Tumor Volume (mm3),Metastatic Sites\n",
    "0 k403       Ramicane     Male 21        16         0         45.000000          0\n",
    "1 k403       Ramicane     Male 21        16         5         38.825898          0\n",
    "2 k403       Ramicane     Male 21        16         10        35.014271          1\n",
    "3 k403       Ramicane     Male 21        16         15        34.223992          1\n",
    "4 k403       Ramicane     Male 21        16         20        32.997729          1\n",
    "1888 z969    Naftisol     Male 9         30         25        63.145652          2\n",
    "1889 z969    Naftisol     Male 9         30         30        65.841013          3\n",
    "1890 z969    Naftisol     Male 9         30         35        69.176246          4\n",
    "1891 z969    Naftisol     Male 9         30         40        70.314904          4\n",
    "1892 z969    Naftisol     Male 9         30         45        73.867845          4\n",
    "    \n"
   ]
  },
  {
   "cell_type": "code",
   "execution_count": null,
   "metadata": {},
   "outputs": [],
   "source": [
    "mouse_count = combined_df[\"Mouse ID\"].count()\n",
    "mouse_count"
   ]
  },
  {
   "cell_type": "code",
   "execution_count": null,
   "metadata": {},
   "outputs": [],
   "source": [
    "1893"
   ]
  },
  {
   "cell_type": "code",
   "execution_count": null,
   "metadata": {},
   "outputs": [],
   "source": [
    "duplicate_rows = combined_df[combined_df.duplicated(['Mouse ID', 'Timepoint'])]\n",
    "duplicate_rows"
   ]
  },
  {
   "cell_type": "code",
   "execution_count": null,
   "metadata": {},
   "outputs": [],
   "source": [
    "    Mouse ID,Drug Regimen,Sex,Age_months,Weight (g),Timepoint,Tumor Volume (mm3),Metastatic Sites\n",
    "909  g989     Propriva    Female  21     26          0         45.000000          0\n",
    "911  g989     Propriva    Female  21     26          5         47.570392          0\n",
    "913  g989     Propriva    Female  21     26          10        49.880528          0\n",
    "915  g989     Propriva    Female  21     26          15        53.442020          0\n",
    "917  g989     Propriva    Female  21     26          20        54.657650          1\n",
    "\n"
   ]
  },
  {
   "cell_type": "code",
   "execution_count": null,
   "metadata": {},
   "outputs": [],
   "source": [
    "all_duplicate_rows = combined_df[combined_df.duplicated(['Mouse ID',])]\n",
    "all_duplicate_rows "
   ]
  },
  {
   "cell_type": "code",
   "execution_count": null,
   "metadata": {},
   "outputs": [],
   "source": [
    "    Mouse ID,Drug Regimen,Sex,Age_months,Weight (g),Timepoint,Tumor Volume (mm3),Metastatic Sites\n",
    "0 k403       Ramicane     Male 21        16         0         45.000000          0\n",
    "1 k403       Ramicane     Male 21        16         5         38.825898          0\n",
    "2 k403       Ramicane     Male 21        16         10        35.014271          1\n",
    "3 k403       Ramicane     Male 21        16         15        34.223992          1\n",
    "4 k403       Ramicane     Male 21        16         20        32.997729          1\n",
    "1888 z969    Naftisol     Male 9         30         25        63.145652          2\n",
    "1889 z969    Naftisol     Male 9         30         30        65.841013          3\n",
    "1890 z969    Naftisol     Male 9         30         35        69.176246          4\n",
    "1891 z969    Naftisol     Male 9         30         40        70.314904          4\n",
    "1892 z969    Naftisol     Male 9         30         45        73.867845          4\n",
    "    "
   ]
  },
  {
   "cell_type": "code",
   "execution_count": null,
   "metadata": {},
   "outputs": [],
   "source": [
    "clean_df = combined_df.drop_duplicates(\"Mouse ID\")\n",
    "clean_df"
   ]
  },
  {
   "cell_type": "code",
   "execution_count": null,
   "metadata": {},
   "outputs": [],
   "source": [
    "    Mouse ID,Drug Regimen,Sex,Age_months,Weight(g),Timepoint,Tumor Volume (mm3), Metastatic Sites\n",
    "0     k403    Ramicane    Male     21     16        0          45.0               0\n",
    "10    s185    Capomulin   Female   3      17        0          45.0               0\n",
    "20    x401    Capomulin   Female   16     15        0          45.0               0\n",
    "30    m601    Capomulin   Male     22     17        0          45.0               0\n",
    "40    g791    Ramicane    Male     11     16        0          45.0               0\n",
    "1858  z314    Stelasyn    Female   21     28        0          45.0               0\n",
    "1860  z435    Propriva    Female   12     26        0          45.0               0\n",
    "1863  z581    Infubinol   Female   24     25        0          45.0               0\n",
    "1873  z795    Naftisol    Female   13     29        0          45.0               0\n",
    "1883  z969    Naftisol    Male     9      30        0          45.0               0\n",
    "    \n",
    "    "
   ]
  },
  {
   "cell_type": "code",
   "execution_count": null,
   "metadata": {},
   "outputs": [],
   "source": [
    "mean = combined_df.groupby('Drug Regimen')['Tumor Volume (mm3)'].mean()\n",
    "median = combined_df.groupby('Drug Regimen')['Tumor Volume (mm3)'].median()\n",
    "variance = combined_df.groupby('Drug Regimen')['Tumor Volume (mm3)'].var()\n",
    "standard_dv = combined_df.groupby('Drug Regimen')['Tumor Volume (mm3)'].std()\n",
    "sem = combined_df.groupby('Drug Regimen')['Tumor Volume (mm3)'].sem()\n",
    "\n",
    "summary_df = pd.DataFrame({\"Mean\": mean, \"Median\": median, \"Variance\": variance, \"Standard Deviation\": standard_dv, \"SEM\": sem})\n",
    "summary_df"
   ]
  },
  {
   "cell_type": "code",
   "execution_count": null,
   "metadata": {},
   "outputs": [],
   "source": [
    "                Mean,  Median,  Variance,  Standard Deviation,  Sem\n",
    "Capomulin  40.675741 41.557809 24.947764   4.994774           0.329346\n",
    "Ceftamin   52.591172 51.776157 39.290177   6.268188           0.469821\n",
    "Infubinol  52.884795 51.820584 43.128684   6.567243           0.492236\n",
    "Ketapril   55.235638 53.698743 68.553577   8.279709           0.603860\n",
    "Naftisol   54.331565 52.509285 66.173479   8.134708           0.596466\n",
    "Placebo    54.033581 52.288934 61.168083   7.821003           0.581331\n",
    "Propriva   52.322552 50.854632 42.351070   6.507770           0.512884\n",
    "Ramicane   40.216745 40.673236 23.486704   4.846308           0.320955\n",
    "Stelasyn   54.233149 52.431737 59.450562   7.710419           0.573111\n",
    "Zoniferol  53.236507 51.818479 48.533355   6.966589           0.516398\n"
   ]
  },
  {
   "cell_type": "code",
   "execution_count": null,
   "metadata": {},
   "outputs": [],
   "source": [
    "drug_data = pd.DataFrame(combined_df.groupby([\"Drug Regimen\"]).count()).reset_index()\n",
    "\n",
    "drugs_df = drug_data[[\"Drug Regimen\", \"Mouse ID\"]]\n",
    "drugs_df = drugs_df.set_index(\"Drug Regimen\")"
   ]
  },
  {
   "cell_type": "code",
   "execution_count": null,
   "metadata": {},
   "outputs": [],
   "source": [
    "drugs_df.plot(kind=\"bar\", figsize=(10,3))\n",
    "\n",
    "plt.title(\"Drug Treatment Count\")\n",
    "plt.show()\n",
    "plt.tight_layout()"
   ]
  },
  {
   "cell_type": "code",
   "execution_count": null,
   "metadata": {},
   "outputs": [],
   "source": [
    "drug_list = summary_df.index.tolist()\n",
    "drug_list"
   ]
  },
  {
   "cell_type": "code",
   "execution_count": null,
   "metadata": {},
   "outputs": [],
   "source": [
    " ['Capomulin',\n",
    " 'Ceftamin',\n",
    " 'Infubinol',\n",
    " 'Ketapril',\n",
    " 'Naftisol',\n",
    " 'Placebo',\n",
    " 'Propriva',\n",
    " 'Ramicane',\n",
    " 'Stelasyn',\n",
    " 'Zoniferol']"
   ]
  },
  {
   "cell_type": "code",
   "execution_count": null,
   "metadata": {},
   "outputs": [],
   "source": [
    "drug_count = (combined_df.groupby([\"Drug Regimen\"])[\"Age_months\"].count()).tolist()\n",
    "drug_count "
   ]
  },
  {
   "cell_type": "code",
   "execution_count": null,
   "metadata": {},
   "outputs": [],
   "source": [
    "[230, 178, 178, 188, 186, 181, 161, 228, 181, 182]"
   ]
  },
  {
   "cell_type": "code",
   "execution_count": null,
   "metadata": {},
   "outputs": [],
   "source": [
    "x_axis = np.arange(len(drug_count)) "
   ]
  },
  {
   "cell_type": "code",
   "execution_count": null,
   "metadata": {},
   "outputs": [],
   "source": [
    "x_axis = drug_list\n",
    "\n",
    "plt.figure(figsize=(11,4))\n",
    "plt.bar(x_axis, drug_count, color='b', alpha=0.5, align=\"center\")\n",
    "\n",
    "plt.title(\"Drug Treatment Count\")\n",
    "plt.xlabel(\"Drug Regimen\")\n",
    "plt.ylabel(\"Count\")"
   ]
  },
  {
   "cell_type": "code",
   "execution_count": null,
   "metadata": {},
   "outputs": [],
   "source": [
    "Text(0, 0.5, 'Count')"
   ]
  },
  {
   "cell_type": "code",
   "execution_count": null,
   "metadata": {},
   "outputs": [],
   "source": [
    "plt.clf()\n",
    "plt.cla()\n",
    "plt.close()"
   ]
  },
  {
   "cell_type": "code",
   "execution_count": null,
   "metadata": {},
   "outputs": [],
   "source": [
    "gender_df = pd.DataFrame(combined_df.groupby([\"Sex\"]).count()).reset_index()\n",
    "gender_df.head()"
   ]
  },
  {
   "cell_type": "code",
   "execution_count": null,
   "metadata": {},
   "outputs": [],
   "source": [
    "Sex,   Mouse ID, Drug Regimen, Age_months, Weight(g), Timepoint, Tumore volume (mm3), Metastatic Sites\n",
    "Female      935  935           935         935        935        935                  935\n",
    "Male        958  958           958         958        958        958                  958                   \n"
   ]
  },
  {
   "cell_type": "code",
   "execution_count": null,
   "metadata": {},
   "outputs": [],
   "source": [
    "gender_df = gender_df[[\"Sex\",\"Mouse ID\"]]\n",
    "gender_df.head()"
   ]
  },
  {
   "cell_type": "code",
   "execution_count": null,
   "metadata": {},
   "outputs": [],
   "source": [
    " Sex,   Mouse ID\n",
    "Female  935\n",
    "Male    958\n"
   ]
  },
  {
   "cell_type": "code",
   "execution_count": null,
   "metadata": {},
   "outputs": [],
   "source": [
    "plt.figure(figsize=(12,6))\n",
    "ax1 = plt.subplot(121, aspect=\"equal\")\n",
    "gender_df.plot(kind=\"pie\", y = \"Mouse ID\", ax=ax1, autopct='%1.1f%%',\n",
    "              startangle=190, shadow=True, labels=gender_df[\"Sex\"], legend = False, fontsize=14)\n",
    "\n",
    "plt.title(\"Male & Female Mice Percentage\")\n",
    "plt.xlabel(\"\")\n",
    "plt.ylabel(\"\")"
   ]
  },
  {
   "cell_type": "code",
   "execution_count": null,
   "metadata": {},
   "outputs": [],
   "source": [
    "Text(0, 0.5, '')"
   ]
  },
  {
   "cell_type": "code",
   "execution_count": null,
   "metadata": {},
   "outputs": [],
   "source": [
    "Male = 50.6%\n",
    "Female = 49.4%"
   ]
  },
  {
   "cell_type": "code",
   "execution_count": null,
   "metadata": {},
   "outputs": [],
   "source": [
    "plt.clf()\n",
    "plt.cla()\n",
    "plt.close()"
   ]
  },
  {
   "cell_type": "code",
   "execution_count": null,
   "metadata": {},
   "outputs": [],
   "source": [
    "gender_count = (combined_df.groupby([\"Sex\"])[\"Age_months\"].count()).tolist()\n",
    "gender_count"
   ]
  },
  {
   "cell_type": "code",
   "execution_count": null,
   "metadata": {},
   "outputs": [],
   "source": [
    "[935, 958]"
   ]
  },
  {
   "cell_type": "code",
   "execution_count": null,
   "metadata": {},
   "outputs": [],
   "source": [
    "plt.clf()\n",
    "plt.cla()\n",
    "plt.close()"
   ]
  },
  {
   "cell_type": "code",
   "execution_count": null,
   "metadata": {},
   "outputs": [],
   "source": [
    "combined_df.head() "
   ]
  },
  {
   "cell_type": "code",
   "execution_count": null,
   "metadata": {},
   "outputs": [],
   "source": [
    "Mouse ID,Drug Regimen,Sex,Age_months,Weight (g),Timepoint,Tumor Volume (mm3),Metastatic Sites\n",
    "0 k403       Ramicane     Male 21        16         0         45.000000          0\n",
    "1 k403       Ramicane     Male 21        16         5         38.825898          0\n",
    "2 k403       Ramicane     Male 21        16         10        35.014271          1\n",
    "3 k403       Ramicane     Male 21        16         15        34.223992          1\n",
    "4 k403       Ramicane     Male 21        16         20        32.997729          1"
   ]
  },
  {
   "cell_type": "code",
   "execution_count": null,
   "metadata": {},
   "outputs": [],
   "source": [
    "sorted_df = combined_df.sort_values([\"Drug Regimen\", \"Mouse ID\", \"Timepoint\"], ascending=True)\n",
    "last_df = sorted_df.loc[sorted_df[\"Timepoint\"] == 45]\n",
    "last_df.head().reset_index()"
   ]
  },
  {
   "cell_type": "code",
   "execution_count": null,
   "metadata": {},
   "outputs": [],
   "source": [
    "Index,  Mouse ID,  Drug Regimen , Sex,  Age_months,  Weight(g), Timepoint,  Tumor Volume(mm3),  Metastatic Sites\n",
    "309     b128       Capomulin     Female   9           22         45          38.982878           2\n",
    "299     b742       Capomulin     Male     7           21         45          38.939633           0\n",
    "244     g288       Capomulin     Male     3           19         45          37.074024           1\n",
    "360     g316       Capomulin     Female   22          22         45          40.159220           2\n",
    "440     i557       Capomulin     Female   1           24         45          47.685963           1\n",
    "\n"
   ]
  },
  {
   "cell_type": "code",
   "execution_count": null,
   "metadata": {},
   "outputs": [],
   "source": [
    "capo_df = last_df[last_df[\"Drug Regimen\"].isin([\"Capomulin\"])]\n",
    "capo_df.head().reset_index()"
   ]
  },
  {
   "cell_type": "code",
   "execution_count": null,
   "metadata": {},
   "outputs": [],
   "source": [
    "Index,  Mouse ID,  Drug Regimen , Sex,  Age_months,  Weight(g), Timepoint,  Tumor Volume(mm3),  Metastatic Sites\n",
    "309     b128       Capomulin     Female   9           22         45          38.982878           2\n",
    "299     b742       Capomulin     Male     7           21         45          38.939633           0\n",
    "244     g288       Capomulin     Male     3           19         45          37.074024           1\n",
    "360     g316       Capomulin     Female   22          22         45          40.159220           2\n",
    "440     i557       Capomulin     Female   1           24         45          47.685963           1\n"
   ]
  },
  {
   "cell_type": "code",
   "execution_count": null,
   "metadata": {},
   "outputs": [],
   "source": [
    "capo_obj = capo_df.sort_values([\"Tumor Volume (mm3)\"], ascending=True).reset_index()\n",
    "capo_obj = capo_obj[\"Tumor Volume (mm3)\"]\n",
    "capo_obj"
   ]
  },
  {
   "cell_type": "code",
   "execution_count": null,
   "metadata": {},
   "outputs": [],
   "source": [
    "0     23.343598\n",
    "1     28.430964\n",
    "2     28.484033\n",
    "3     31.023923\n",
    "4     31.896238\n",
    "5     32.377357\n",
    "6     33.329098\n",
    "7     34.455298\n",
    "8     36.041047\n",
    "9     37.074024\n",
    "10    37.311846\n",
    "11    38.125164\n",
    "12    38.846876\n",
    "13    38.939633\n",
    "14    38.982878\n",
    "15    40.159220\n",
    "16    40.658124\n",
    "17    40.728578\n",
    "18    41.483008\n",
    "19    41.581521\n",
    "20    47.685963\n",
    "Name: Tumor Volume (mm3), dtype: float64"
   ]
  },
  {
   "cell_type": "code",
   "execution_count": null,
   "metadata": {},
   "outputs": [],
   "source": [
    "quartiles = capo_obj.quantile([.25,.5,.75])\n",
    "lowerq = quartiles[0.25]\n",
    "upperq = quartiles[0.75]\n",
    "iqr = upperq - lowerq\n",
    "\n",
    "print(f\"The lower quartile of temperatures is: {lowerq}\")\n",
    "print(f\"The upper quartile of temperatures is: {upperq}\")\n",
    "print(f\"The interquartile range of temperatures is: {iqr}\")\n",
    "print(f\"The median of temperatures is: {quartiles[0.5]}\")\n",
    "\n",
    "lower_bound = lowerq - (1.5*iqr)\n",
    "upper_bound = upperq + (1.5*iqr)\n",
    "print(f\"Values below {lower_bound} could be outliers.\")\n",
    "print(f\"Values above {upper_bound} could be outliers.\")"
   ]
  },
  {
   "cell_type": "code",
   "execution_count": null,
   "metadata": {},
   "outputs": [],
   "source": [
    "The lower quartile of temperatures is: 32.37735684\n",
    "The upper quartile of temperatures is: 40.1592203\n",
    "The interquartile range of temperatures is: 7.781863460000004\n",
    "The median of temperatures is: 37.31184577\n",
    "Values below 20.70456164999999 could be outliers.\n",
    "Values above 51.83201549 could be outliers."
   ]
  },
  {
   "cell_type": "code",
   "execution_count": null,
   "metadata": {},
   "outputs": [],
   "source": [
    "fig1, ax1 = plt.subplots()\n",
    "ax1.set_title(\"Final Tumor Volume in Capomulin Regimen\")\n",
    "ax1.set_ylabel(\"Final Tumor Volume (mm3)\")\n",
    "ax1.boxplot(capo_obj)\n",
    "plt.show()"
   ]
  },
  {
   "cell_type": "code",
   "execution_count": null,
   "metadata": {},
   "outputs": [],
   "source": [
    "ram_df = last_df[last_df[\"Drug Regimen\"].isin([\"Ramicane\"])]\n",
    "ram_df.head().reset_index()"
   ]
  },
  {
   "cell_type": "code",
   "execution_count": null,
   "metadata": {},
   "outputs": [],
   "source": [
    "Index,  Mouse ID,  Drug Regimen , Sex,  Age_months,  Weight(g), Timepoint,  Tumor Volume(mm3),  Metastatic Sites\n",
    "327     a411       Ramicane      Male     3           22         45          38.407618           1\n",
    "430     a444       Ramicane      Female   10          25         45          43.047543           0\n",
    "214     a520       Ramicane      Male     13          21         45          38.810366           1\n",
    "174     a644       Ramicane      Female   7           17         45          32.978522           1\n",
    "154     c758       Ramicane      Male     9           17         45          33.397653           1"
   ]
  },
  {
   "cell_type": "code",
   "execution_count": null,
   "metadata": {},
   "outputs": [],
   "source": [
    "ram_obj = ram_df.sort_values([\"Tumor Volume (mm3)\"], ascending=True).reset_index()\n",
    "ram_obj = ram_obj[\"Tumor Volume (mm3)\"]\n",
    "ram_obj "
   ]
  },
  {
   "cell_type": "code",
   "execution_count": null,
   "metadata": {},
   "outputs": [],
   "source": [
    "0     22.050126\n",
    "1     29.128472\n",
    "2     30.276232\n",
    "3     30.564625\n",
    "4     30.638696\n",
    "5     31.095335\n",
    "6     31.560470\n",
    "7     32.978522\n",
    "8     33.397653\n",
    "9     33.562402\n",
    "10    36.134852\n",
    "11    36.374510\n",
    "12    37.225650\n",
    "13    37.311236\n",
    "14    38.407618\n",
    "15    38.810366\n",
    "16    40.659006\n",
    "17    40.667713\n",
    "18    43.047543\n",
    "19    45.220869\n",
    "Name: Tumor Volume (mm3), dtype: float64"
   ]
  },
  {
   "cell_type": "code",
   "execution_count": null,
   "metadata": {},
   "outputs": [],
   "source": [
    "quartiles = capo_obj.quantile([.25,.5,.75])\n",
    "lowerq = quartiles[0.25]\n",
    "upperq = quartiles[0.75]\n",
    "iqr = upperq - lowerq\n",
    "\n",
    "print(f\"The lower quartile of temperatures is: {lowerq}\")\n",
    "print(f\"The upper quartile of temperatures is: {upperq}\")\n",
    "print(f\"The interquartile range of temperatures is: {iqr}\")\n",
    "print(f\"The median of temperatures is: {quartiles[0.5]}\")\n",
    "\n",
    "lower_bound = lowerq - (1.5*iqr)\n",
    "upper_bound = upperq + (1.5*iqr)\n",
    "print(f\"Values below {lower_bound} could be outliers.\")\n",
    "print(f\"Values above {upper_bound} could be outliers.\") "
   ]
  },
  {
   "cell_type": "code",
   "execution_count": null,
   "metadata": {},
   "outputs": [],
   "source": [
    "The lower quartile of temperatures is: 32.37735684\n",
    "The upper quartile of temperatures is: 40.1592203\n",
    "The interquartile range of temperatures is: 7.781863460000004\n",
    "The median of temperatures is: 37.31184577\n",
    "Values below 20.70456164999999 could be outliers.\n",
    "Values above 51.83201549 could be outliers.\n"
   ]
  },
  {
   "cell_type": "code",
   "execution_count": null,
   "metadata": {},
   "outputs": [],
   "source": [
    "fig1, ax1 = plt.subplots()\n",
    "ax1.set_title(\"Final Tumor Volume in Ramicane Regimen\")\n",
    "ax1.set_ylabel(\"Final Tumor Volume (mm3)\")\n",
    "ax1.boxplot(capo_obj)\n",
    "plt.show() "
   ]
  },
  {
   "cell_type": "code",
   "execution_count": null,
   "metadata": {},
   "outputs": [],
   "source": [
    "infu_df = last_df[last_df[\"Drug Regimen\"].isin([\"Infubinol\"])]\n",
    "infu_df.head().reset_index()"
   ]
  },
  {
   "cell_type": "code",
   "execution_count": null,
   "metadata": {},
   "outputs": [],
   "source": [
    "Index,  Mouse ID,  Drug Regimen , Sex,  Age_months,  Weight(g), Timepoint,  Tumor Volume(mm3),  Metastatic Sites\n",
    "463     a203       Infubinol      Female   20          23         45          67.973419           2\n",
    "473     a251       Infubinol      Female   21          25         45          65.525743           1\n",
    "540     a685       Infubinol      Male     8           30         45          66.083066           3\n",
    "637     c139       Infubinol      Male     11          28         45          72.226731           2\n",
    "800     e476       Infubinol      Male     23          26         45          62.435404           1"
   ]
  },
  {
   "cell_type": "code",
   "execution_count": null,
   "metadata": {},
   "outputs": [],
   "source": []
  },
  {
   "cell_type": "code",
   "execution_count": null,
   "metadata": {},
   "outputs": [],
   "source": []
  },
  {
   "cell_type": "code",
   "execution_count": null,
   "metadata": {},
   "outputs": [],
   "source": []
  }
 ],
 "metadata": {
  "kernelspec": {
   "display_name": "Python 3.8.8 64-bit ('PythonData': conda)",
   "language": "python",
   "name": "python388jvsc74a57bd064c45e6170973975e2ba92df3b6e5a0a404f1c55d718040076d9a67609a967ed"
  },
  "language_info": {
   "codemirror_mode": {
    "name": "ipython",
    "version": 3
   },
   "file_extension": ".py",
   "mimetype": "text/x-python",
   "name": "python",
   "nbconvert_exporter": "python",
   "pygments_lexer": "ipython3",
   "version": "3.8.8"
  }
 },
 "nbformat": 4,
 "nbformat_minor": 4
}
